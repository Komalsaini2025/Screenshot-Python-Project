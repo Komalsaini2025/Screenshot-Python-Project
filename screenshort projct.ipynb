{
 "cells": [
  {
   "cell_type": "code",
   "execution_count": 1,
   "id": "ed9022af-b66a-443f-8e8e-933ba0d3e626",
   "metadata": {},
   "outputs": [],
   "source": [
    "import pyscreenshot \n",
    "  \n",
    "# To capture the screen \n",
    "image = pyscreenshot.grab() \n",
    "  \n",
    "# To display the captured screenshot \n",
    "image.show() \n",
    "  \n",
    "# To save the screenshot \n",
    "image.save(\"GeeksforGeeks.png\") "
   ]
  },
  {
   "cell_type": "code",
   "execution_count": 1,
   "id": "c8dfa92f-16a8-4aae-97ab-687facc34475",
   "metadata": {},
   "outputs": [
    {
     "name": "stdout",
     "output_type": "stream",
     "text": [
      "Collecting pyscreenshot\n",
      "  Downloading pyscreenshot-3.1-py3-none-any.whl.metadata (1.4 kB)\n",
      "Collecting EasyProcess (from pyscreenshot)\n",
      "  Downloading EasyProcess-1.1-py3-none-any.whl.metadata (855 bytes)\n",
      "Collecting entrypoint2 (from pyscreenshot)\n",
      "  Downloading entrypoint2-1.1-py2.py3-none-any.whl.metadata (1.0 kB)\n",
      "Collecting mss (from pyscreenshot)\n",
      "  Downloading mss-9.0.2-py3-none-any.whl.metadata (6.1 kB)\n",
      "Downloading pyscreenshot-3.1-py3-none-any.whl (28 kB)\n",
      "Downloading EasyProcess-1.1-py3-none-any.whl (8.7 kB)\n",
      "Downloading entrypoint2-1.1-py2.py3-none-any.whl (9.9 kB)\n",
      "Downloading mss-9.0.2-py3-none-any.whl (23 kB)\n",
      "Installing collected packages: entrypoint2, EasyProcess, mss, pyscreenshot\n",
      "Successfully installed EasyProcess-1.1 entrypoint2-1.1 mss-9.0.2 pyscreenshot-3.1\n",
      "Note: you may need to restart the kernel to use updated packages.\n"
     ]
    }
   ],
   "source": [
    "pip install pyscreenshot"
   ]
  },
  {
   "cell_type": "code",
   "execution_count": null,
   "id": "73c7f119-b140-476c-9928-78bbadff1d07",
   "metadata": {},
   "outputs": [],
   "source": []
  }
 ],
 "metadata": {
  "kernelspec": {
   "display_name": "Python 3 (ipykernel)",
   "language": "python",
   "name": "python3"
  },
  "language_info": {
   "codemirror_mode": {
    "name": "ipython",
    "version": 3
   },
   "file_extension": ".py",
   "mimetype": "text/x-python",
   "name": "python",
   "nbconvert_exporter": "python",
   "pygments_lexer": "ipython3",
   "version": "3.12.4"
  }
 },
 "nbformat": 4,
 "nbformat_minor": 5
}
